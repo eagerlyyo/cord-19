{
 "cells": [
  {
   "cell_type": "code",
   "execution_count": 1,
   "metadata": {},
   "outputs": [],
   "source": [
    "import modules.DataLoader as DataLoader\n",
    "import modules.Embeddings as Embeddings\n",
    "import modules.Metric as Metric\n",
    "import modules.ReportWriter as ReportWriter\n",
    "import modules.Query as Query\n",
    "import modules.Scorer as Scorer\n",
    "import importlib"
   ]
  },
  {
   "cell_type": "code",
   "execution_count": 2,
   "metadata": {},
   "outputs": [],
   "source": [
    "def reloadModules():\n",
    "    importlib.reload(DataLoader)\n",
    "    importlib.reload(Embeddings)\n",
    "    importlib.reload(Metric)\n",
    "    importlib.reload(ReportWriter)\n",
    "    importlib.reload(Query)\n",
    "    importlib.reload(Scorer)\n",
    "reloadModules()"
   ]
  },
  {
   "cell_type": "code",
   "execution_count": 3,
   "metadata": {},
   "outputs": [
    {
     "name": "stdout",
     "output_type": "stream",
     "text": [
      "----- Total pdf files in biorxiv 1342 -----\n",
      "\n",
      "** Keys in pdf file - \n",
      "dict_keys(['paper_id', 'metadata', 'abstract', 'body_text', 'bib_entries', 'ref_entries', 'back_matter'])\n",
      "**\n"
     ]
    }
   ],
   "source": [
    "data = DataLoader.loadData()\n",
    "# print(data.iloc[0]['text_'])"
   ]
  },
  {
   "cell_type": "code",
   "execution_count": 4,
   "metadata": {},
   "outputs": [
    {
     "data": {
      "text/plain": [
       "Index(['paper_id', 'metadata', 'abstract', 'body_text', 'bib_entries',\n",
       "       'ref_entries', 'back_matter', 'text_'],\n",
       "      dtype='object')"
      ]
     },
     "execution_count": 4,
     "metadata": {},
     "output_type": "execute_result"
    }
   ],
   "source": [
    "data.keys()"
   ]
  },
  {
   "cell_type": "code",
   "execution_count": 5,
   "metadata": {},
   "outputs": [
    {
     "name": "stdout",
     "output_type": "stream",
     "text": [
      "['virus genetics and evolution']\n"
     ]
    }
   ],
   "source": [
    "queries = Query.getQueries()\n",
    "print (queries)"
   ]
  },
  {
   "cell_type": "code",
   "execution_count": null,
   "metadata": {},
   "outputs": [],
   "source": [
    "result = []\n",
    "for idx, query in enumerate(queries):\n",
    "    result.append([])\n",
    "    for index, paper in data.iterrows():\n",
    "        result[idx].append({'idx' : index, 'scores' : Scorer.score(paper, query)})"
   ]
  },
  {
   "cell_type": "code",
   "execution_count": null,
   "metadata": {},
   "outputs": [],
   "source": [
    "# sort result by paper score\n",
    "[res.sort(key = lambda item : item['scores']['score'], reverse=True) for res in result]\n",
    "# print(result)"
   ]
  },
  {
   "cell_type": "code",
   "execution_count": null,
   "metadata": {},
   "outputs": [],
   "source": [
    "topN = 2\n",
    "topM = 2\n",
    "\n",
    "for idx, query in enumerate(queries):\n",
    "    print(\"query:\", query, \"\\n\")\n",
    "    for i in range(topN):\n",
    "        paperScoreData = result[idx][i]\n",
    "        paper = data.iloc[paperScoreData['idx']]\n",
    "        scores = paperScoreData['scores']\n",
    "        print('paper_id : ', paper['paper_id'], \"\\n\")\n",
    "        print(\"abstract : \")\n",
    "        for j in range(topM):\n",
    "            try:\n",
    "                print(\"score :\", scores['abstract'][j]['score'])\n",
    "                print(\"text : \", paper['abstract'][scores['abstract'][j]['idx']]['text'])\n",
    "                print()\n",
    "            except:\n",
    "                pass\n",
    "        print(\"body : \")\n",
    "        for j in range(topM):\n",
    "            try:\n",
    "                print(\"score :\", scores['body'][j]['score'])\n",
    "                print(\"text : \", paper['body_text'][scores['abstract'][j]['idx']]['text'])\n",
    "                print()\n",
    "            except:\n",
    "                pass\n",
    "        print(\"------------------------------------------\")\n",
    "    print(\"************************************\")"
   ]
  },
  {
   "cell_type": "code",
   "execution_count": null,
   "metadata": {},
   "outputs": [],
   "source": []
  }
 ],
 "metadata": {
  "kernelspec": {
   "display_name": "cord-19",
   "language": "python",
   "name": "cord-19"
  },
  "language_info": {
   "codemirror_mode": {
    "name": "ipython",
    "version": 3
   },
   "file_extension": ".py",
   "mimetype": "text/x-python",
   "name": "python",
   "nbconvert_exporter": "python",
   "pygments_lexer": "ipython3",
   "version": "3.6.8"
  }
 },
 "nbformat": 4,
 "nbformat_minor": 4
}
