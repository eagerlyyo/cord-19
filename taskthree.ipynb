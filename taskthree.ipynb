{
 "cells": [
  {
   "cell_type": "code",
   "execution_count": null,
   "metadata": {},
   "outputs": [],
   "source": [
    "biorxiv_dir = './biorxiv_medrxiv/biorxiv_medrxiv/pdf_json/'\n",
    "\n",
    "import os\n",
    "import json\n",
    "import pandas as pd"
   ]
  },
  {
   "cell_type": "code",
   "execution_count": null,
   "metadata": {},
   "outputs": [],
   "source": [
    "def refine_text(json_object):\n",
    "    # dropping in-text references\n",
    "    # considering abstract and body_text as of now\n",
    "    abstract = json_object['abstract']\n",
    "    body_text = json_object['body_text']\n",
    "\n",
    "    def get_combined_text(text_dict):\n",
    "        return \" \".join(p['text'] for p in text_dict)\n",
    "    \n",
    "    return \" \".join([get_combined_text(abstract), get_combined_text(body_text)])"
   ]
  },
  {
   "cell_type": "code",
   "execution_count": null,
   "metadata": {},
   "outputs": [],
   "source": [
    "biorxiv_pdfs = os.listdir(biorxiv_dir)\n",
    "print(f'----- Total pdf files in biorxiv {len(biorxiv_pdfs)} -----')\n",
    "\n",
    "sample_file_path = os.path.join(biorxiv_dir, biorxiv_pdfs[0])\n",
    "sample_json = json.load(open(sample_file_path, 'r'))\n",
    "print(f'\\n** Keys in pdf file - \\n{sample_json.keys()}\\n**')\n",
    "\n",
    "refined_pdfs = []\n",
    "for pdf in biorxiv_pdfs:\n",
    "    json_pdf = json.load(open(os.path.join(biorxiv_dir, pdf), 'r'))\n",
    "    json_pdf['text_'] = refine_text(json_pdf)\n",
    "    refined_pdfs.append(json_pdf)\n",
    "\n",
    "dataframe = pd.DataFrame.from_records(refined_pdfs)"
   ]
  },
  {
   "cell_type": "code",
   "execution_count": null,
   "metadata": {},
   "outputs": [],
   "source": [
    "dataframe.iloc[0]['text_']"
   ]
  },
  {
   "cell_type": "code",
   "execution_count": null,
   "metadata": {},
   "outputs": [],
   "source": [
    "dataframe['ref_entries'].head(1)"
   ]
  },
  {
   "cell_type": "code",
   "execution_count": null,
   "metadata": {},
   "outputs": [],
   "source": []
  }
 ],
 "metadata": {
  "kernelspec": {
   "display_name": "Python 3",
   "language": "python",
   "name": "python3"
  },
  "language_info": {
   "codemirror_mode": {
    "name": "ipython",
    "version": 3
   },
   "file_extension": ".py",
   "mimetype": "text/x-python",
   "name": "python",
   "nbconvert_exporter": "python",
   "pygments_lexer": "ipython3",
   "version": "3.7.4"
  }
 },
 "nbformat": 4,
 "nbformat_minor": 2
}
