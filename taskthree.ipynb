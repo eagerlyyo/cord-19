{
 "cells": [
  {
   "cell_type": "code",
   "execution_count": 1,
   "metadata": {},
   "outputs": [],
   "source": [
    "biorxiv_dir = './biorxiv_medrxiv/biorxiv_medrxiv/pdf_json/'\n",
    "\n",
    "import os\n",
    "import json\n",
    "import pandas as pd"
   ]
  },
  {
   "cell_type": "code",
   "execution_count": 2,
   "metadata": {},
   "outputs": [],
   "source": [
    "def refine_text(json_object):\n",
    "    # dropping in-text references\n",
    "    # considering abstract and body_text as of now\n",
    "    abstract = json_object['abstract']\n",
    "    body_text = json_object['body_text']\n",
    "\n",
    "    def get_combined_text(text_dict):\n",
    "        return \" \".join(p['text'] for p in text_dict)\n",
    "    \n",
    "    return \" \".join([get_combined_text(abstract), get_combined_text(body_text)])"
   ]
  },
  {
   "cell_type": "code",
   "execution_count": 3,
   "metadata": {},
   "outputs": [
    {
     "name": "stdout",
     "output_type": "stream",
     "text": [
      "----- Total pdf files in biorxiv 1342 -----\n",
      "\n",
      "** Keys in pdf file - \n",
      "dict_keys(['paper_id', 'metadata', 'abstract', 'body_text', 'bib_entries', 'ref_entries', 'back_matter'])\n",
      "**\n"
     ]
    }
   ],
   "source": [
    "biorxiv_pdfs = os.listdir(biorxiv_dir)\n",
    "print(f'----- Total pdf files in biorxiv {len(biorxiv_pdfs)} -----')\n",
    "\n",
    "sample_file_path = os.path.join(biorxiv_dir, biorxiv_pdfs[0])\n",
    "sample_json = json.load(open(sample_file_path, 'r'))\n",
    "print(f'\\n** Keys in pdf file - \\n{sample_json.keys()}\\n**')\n",
    "\n",
    "refined_pdfs = []\n",
    "for pdf in biorxiv_pdfs:\n",
    "    json_pdf = json.load(open(os.path.join(biorxiv_dir, pdf), 'r'))\n",
    "    json_pdf['text_'] = refine_text(json_pdf)\n",
    "    refined_pdfs.append(json_pdf)\n",
    "\n",
    "dataframe = pd.DataFrame.from_records(refined_pdfs)"
   ]
  },
  {
   "cell_type": "code",
   "execution_count": 4,
   "metadata": {},
   "outputs": [
    {
     "data": {
      "text/plain": [
       "'The 2013-2016 West Africa EBOV epidemic was the biggest EBOV outbreak to date. An analysis of virus-specific CD8+ T-cell immunity in 30 survivors showed that 26 of those individuals had a CD8+ response to at least one EBOV protein. The dominant response (25/26 subjects) was specific to the EBOV nucleocapsid protein (NP). It has been suggested that epitopes on the EBOV NP could form an important part of an effective T-cell vaccine for Ebola Zaire. We show that a 9-amino-acid peptide NP44-52 (YQVNNLEEI) located in a conserved region of EBOV NP provides protection against morbidity and mortality after mouse adapted EBOV challenge. A single vaccination in a C57BL/6 mouse using an adjuvanted microsphere peptide vaccine formulation containing NP44-52 is enough to confer immunity in mice. Our work suggests that a peptide vaccine based on CD8+ T-cell immunity in EBOV survivors is conceptually sound and feasible. Nucleocapsid proteins within COVID-19 contain multiple class I epitopes with predicted HLA restrictions consistent with broad population coverage. A similar approach to a CTL vaccine design may be possible for that virus. (IPVYQVNNLEEICQLIIQAF). They also suggested that a CTL vaccine for could be designed using epitopes targeted by CD8+ T-cells identified in these EBOV controllers. Human pathogen-derived peptide antigens that are also recognized by C57BL/6 T-cells have been previously described. These include peptides from vesicular stomatitis virus (VSV) RGYVYQGL [55] , and human immunodeficiency virus We set out to see if we could drive CTL expansion directed against NP43-53 to occur after vaccinating C57BL/6 mice with Ebola Zaire NP43-53 (VYQVNNLEEIC), and to subsequently conduct an in-vivo EBOV challenge study to see if this pep-50 tide was protective. We fabricated adjuvanted microspheres for this study as a room temperature stable dry powder using the Flow Focusing process to be 11µM in diameter so as to prevent more than one microsphere from being phagocytosed by any given antigen presenting cell (APC) at the same time [29] . By loading only one peptide 55 sequence per microsphere, we maximized the peptide payload and mitigated the possibility of multiple, different peptide sequences being delivered to the APC simultaneously, which could possibly result in competitive inhibition at the motif which could interfere with antigen presentation and subsequent T-cell expansion  We used a previously described biodegradable dry powder, PLGA microsphere, synthetic vaccine platform adjuvanted with TLR-4 and TLR-9 ligands [37] to immunize C57BL/6 mice with NP43-53 11-mer, the CTL+ class I peptide antigen from the Ebola Ziare NP protein identified by Wilson et al [59] . Microspheres containing NP43-53 and CpG were prepared as a dry powder formulation and suspended before use in a PBS injectate solution containing MPLA, and administered intradermally via injection at the base of the tail into mice as described in a previous publication [37] . Splenocytes from eight mice receiving the active vaccine, and eight mice receiving microspheres and adjuvants 70 only, were harvested on day 14 and subjected to ELISPOT analysis evaluating IF N − γ release in response to stimulation with the peptide used in the vaccination. As illustrated in Supplementary Material Figure 1 , there was no statistically significant difference between the ELISPOT data for the vaccinated mice versus the response seen in the negative control group. 75 Wilson reported that protection seen in her experiment was due to a peptide sequence within NP-43-53. We hypothesized that the NP43-53 epitope was inefficiently processed into MHC binding sub-sequences during antigen presentation. In order to explore possible H2-D b matches for peptide sequences peptide vaccine formulations, each containing one of the three possible 9mer sub-sequences within NP43-53. These sequences are shown in Table 1 . We then vaccinated, via intradermal (tail) injection, three groups of mice with microspheres containing one of the three 9mer sub-sequences of NP43-53 (6 per group). ELISPOT analysis was performed, stimulating harvested splenocytes 85 with the three possible 9mer sub-sequences. Splenocytes from mice receiving the NP44-52 sub-sequence had a statistically higher ELISPOT response than mice vaccinated with the other two possible sub-sequence 9mers (P < 0.0001) as shown in Figure 1 . This is consistent with the predicted H2-D b binding affinity of YQVNNLEEI as shown in Supplementary Material Table 3 . 90 We then loaded one population of adjuvanted microspheres with NP44-52 and a second population of adjuvanted microspheres loaded with VG19 from EBOV Zaire NP 273-291 (VKNEVNSFKAALSSLAKHG), a Class II epitope predicted to be relevant to NP43-53 based on the TEPITOPE algorithm using a technique described by Cunha-Neto at al [11] . This peptide has a predicted 95 favorable H2-I b binding affinity as shown in Supplementary Material Table 5 . We vaccinated 16 mice with those two populations of microspheres via intradermal (tail) administration and an 12 additional mice with two populations of 5 author/funder. All rights reserved. No reuse allowed without permission. The copyright holder for this preprint (which was not peer-reviewed) is the . https://doi.org/10.1101/2020.02.25.963546 doi: bioRxiv preprint microspheres, one population containing NP43-53 and the other VG19. IF N −γ release as quantified by ELISPOT after the spleens were harvested on day 14 100 after immunization showed that the immune response to the 9mer NP44-52 was higher than the immune response after vaccination with NP43-53 and that this difference was statistically significant (P < 0.0001) Figure 2 . We conducted a pilot study demonstrating that intraperitoneal injection produced a statistically superior immune response by ELISPOT compared with 105 intradermal tail injection in C57BL/6 mice (Supplementary Material). Based on the data from that study, we chose to proceed with intraperitoneal administration for the challenge portion of this study. We dosed three groups of mice, ten mice per group, with the adjuvanted microsphere vaccine formulation containing NP44-52 and VG-19, with each peptide 110 in a distinct microsphere population, and challenged these mice 14 days after vaccine administration with escalating IP administered doses of mouse adapted EBOV (maEBOV) (Group 3 -100 PFU, Group 5 -1000 PFU and Group 7 -10,000 PFU). The composition of the vaccine used for the exposure study is described in Supplementary Material. A second set of three control groups of 115 mice (groups 2, 4 and 6), ten mice per group (mock groups), received PBS buffer solution alone and served as control animals for the study and were similarly challenged with maEBOV. Group 1 animals served as study controls and received no PBS buffer, vaccine or maEBOV injections. All mice were sourced from Jackson Labs and were 6-8 weeks of age and 15-25 grams at the time of 120 vaccination. The dosing regimen is outlined in Table 2 . Peak mortality across all groups tested was seen in mice challenged with 1,000 PFU maEBOV versus PBS buffer control as shown in the survival curve in Serum samples from sacrificed animals exposed to EBOV who did not receive vaccine were quantitatively assayed for various cytokines using BioPlex plates. Animals having unwitnessed demise did not have serum samples collected. A Pearson Correlation Analysis was performed to assess relationships between specific cytokine levels and survival. The results are shown in Table 3 . We observed low levels of IL-6 in surviving mice. NHPs infected with EBOV have been determined by other researchers to have elevated levels of IL-6 in plasma and serum [23] [14] . EBOV infected humans have also shown elevated 145 IL-6 levels and these elevated levels have been associated with increased morality [58] . Similarly, we observed low levels of MCP-1, IL-9 and GM-CSF in survivors. fatalities in EBOV infected human subjects [58] . Human survivors of EBOV have been found to have very low levels of circulating cytokines IL-9 and elevated levels of GM-CSF have been associated with fatality in humans exposed to EBOV [58] . We saw increased levels of IF N − γ in survivors. Other vaccine studies have Dosing  Most preventative vaccines are designed to elicit a humoral immune response, typically via the administration of whole protein from a pathogen. In contrast, a T-cell vaccine is meant to elicit a cellular immune response directing CD8+ NP44-52 is located within one of the EBOV nucleocapsid proteins considered 8 author/funder. All rights reserved. No reuse allowed without permission. The copyright holder for this preprint (which was not peer-reviewed) is the . https://doi.org/10.1101/2020.02.25.963546 doi: bioRxiv preprint essential for virus replication. This epitope resides in a sequence conserved across multiple EBOV strains as shown in Supplementary Material Figure 7 . 175 A 7.3 A structure for NP and VP24 is shown for context in Figure 6a [54] . A 1.8 A resolution structure rendering for EBOV NP shown in Figure 6b illustrates that NP44-52 is a buried structural loop, which is likely to be important to the structural integrity of the EBOV NP protein [13] . This structural role of NP44-52 likely explains its conservation across EBOV strains. We saw what appears to be an innate immune response at the 10,000 PFU EBOV exposure level. It has been suggested that EBOV can mediate an innate immunity response through stimulation of TLR-4 [28] . Because the adjuvanted 200 microsphere vaccine used in this experiment incorporates a TLR-4 agonist, we dosed 10 mice with adjuvanted microspheres without peptides and found the level of protection after exposure to 100 PFU EBOV to be statistically no different from that seen in PBS buffer controls. We conclude that level of protection 9 author/funder. All rights reserved. No reuse allowed without permission. The copyright holder for this preprint (which was not peer-reviewed) is the . https://doi.org/10.1101/2020.02.25.963546 doi: bioRxiv preprint conferred by the adjuvanted vaccine described in this study is dependant on 205 delivering peptides with the microspheres. EBOV can cause severe pulmonary problems in exposed subjects [31] . These problems can be especially severe when the virus is delivered by aerosol [12] [26] . Interaction of EBOV specific antibody, NHP lung tissue and EBOV delivered to NHPs via aerosol can produce a more lethal effect than in NHPs without 210 circulating anti-EBOV antibody exposed to aerosolized EBOV (unpublished conference presentation). This suggests that a CTL vaccine may be more effective for prophylaxis against filovirus protection than an antibody vaccine if the anticipated route of EBOV exposure is via aerosol. [27] . Although peptide vaccines are by their nature HLA restricted, it may be possible to create a CTL vaccine directed against EBOV for use alone or in conjunction with a whole protein vaccine to produce an antibody response in tandem, by incorporating additional Class I peptides from epitopes targeted by controllers to broaden the HLA cov- in-vitro testing is also possible. As we have shown in this paper, a peptide targeted by EBOV controllers could form the basis of a preventative vaccine for EBOV. ELISPOT analysis of PBMCs taken from the peripheral blood of COVID-19 controllers and progres-285 sors to assess the presence of a differential response to the 53 peptides could lead to a broadly applicable protective CTL vaccine against COVID-19 by incorporating peptides into the vaccine that are more commonly targeted for CD8+ attack by the controllers versus the progressors. The extent of the COVID-19 outbreak should allow many more controllers to be identified then the 30 indi-290 viduals studied by Sakabe. Furthermore, Sakebe did not report progressor data perhaps because of the difficulty in obtaining blood samples from those patients. If researchers act now during the COVID-19 outbreak, perhaps controller and progressor blood samples could be collected and prospectively analyzed, quickly creating a database of optimal candidate class I peptides for inclusion into a CTL 295 vaccine with potentially broad HLA coverage for subsequent rapid manufacture and deployment. It would be interesting to see the extent to which the peptides 12 author/funder. All rights reserved. No reuse allowed without permission. The copyright holder for this preprint (which was not peer-reviewed) is the . https://doi.org/10.1101/2020.02.25.963546 doi: bioRxiv preprint favored by controllers appear on COVID-19 nucleocapsid, making COVID-19 a second example, across two different viruses, of controllers exhibiting CTL attack preferentially on the nucleocapsid protein. The copyright holder for this preprint (which was not peer-reviewed) is the . https://doi.org/10.1101/2020.02.25.963546 doi: bioRxiv preprint using artificial neural networks: application to the mhc class i system. The copyright holder for this preprint (which was not peer-reviewed) is the . https://doi.org/10.1101/2020.02.25.963546 doi: bioRxiv preprint author/funder. All rights reserved. No reuse allowed without permission. The copyright holder for this preprint (which was not peer-reviewed) is the . https://doi.org/10.1101/2020.02.25.963546 doi: bioRxiv preprint author/funder. All rights reserved. No reuse allowed without permission. The copyright holder for this preprint (which was not peer-reviewed) is the . https://doi.org/10.1101/2020.02.25.963546 doi: bioRxiv preprint The copyright holder for this preprint (which was not peer-reviewed) is the . https://doi.org/10.1101/2020.02.25.963546 doi: bioRxiv preprint author/funder. All rights reserved. No reuse allowed without permission. The copyright holder for this preprint (which was not peer-reviewed) is the . https://doi.org/10.1101/2020.02.25.963546 doi: bioRxiv preprint 25 author/funder. All rights reserved. No reuse allowed without permission. The copyright holder for this preprint (which was not peer-reviewed) is the . https://doi.org/10.1101/2020.02.25.963546 doi: bioRxiv preprint 28 author/funder. All rights reserved. No reuse allowed without permission. The copyright holder for this preprint (which was not peer-reviewed) is the . https://doi.org/10.1101/2020.02.25.963546 doi: bioRxiv preprint (a) Survival curve versus PBS buffer control. The difference between the number of survivors in the vaccinated group versus the PBS control group was statistically significant by chi square (P = 0.003). 29 author/funder. All rights reserved. No reuse allowed without permission. The copyright holder for this preprint (which was not peer-reviewed) is the . https://doi.org/10.1101/2020.02.25.963546 doi: bioRxiv preprint  author/funder. All rights reserved. No reuse allowed without permission. The copyright holder for this preprint (which was not peer-reviewed) is the . https://doi.org/10.1101/2020.02.25.963546 doi: bioRxiv preprint'"
      ]
     },
     "execution_count": 4,
     "metadata": {},
     "output_type": "execute_result"
    }
   ],
   "source": [
    "dataframe.iloc[0]['text_']"
   ]
  },
  {
   "cell_type": "code",
   "execution_count": 9,
   "metadata": {},
   "outputs": [
    {
     "data": {
      "text/plain": [
       "0    {'FIGREF0': {'text': 'safe and effective vacci...\n",
       "Name: ref_entries, dtype: object"
      ]
     },
     "execution_count": 9,
     "metadata": {},
     "output_type": "execute_result"
    }
   ],
   "source": [
    "dataframe['ref_entries'].head(1)"
   ]
  },
  {
   "cell_type": "code",
   "execution_count": null,
   "metadata": {},
   "outputs": [],
   "source": []
  }
 ],
 "metadata": {
  "kernelspec": {
   "display_name": "Python 3",
   "language": "python",
   "name": "python3"
  },
  "language_info": {
   "codemirror_mode": {
    "name": "ipython",
    "version": 3
   },
   "file_extension": ".py",
   "mimetype": "text/x-python",
   "name": "python",
   "nbconvert_exporter": "python",
   "pygments_lexer": "ipython3",
   "version": "3.7.4"
  }
 },
 "nbformat": 4,
 "nbformat_minor": 2
}
